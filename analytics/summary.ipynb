{
 "cells": [
  {
   "cell_type": "markdown",
   "metadata": {},
   "source": [
    "# Workweek Survey Summary",
    "\n",
    "This notebook loads survey responses and computes a few quick statistics."
   ]
  },
  {
   "cell_type": "code",
   "execution_count": null,
   "metadata": {},
   "outputs": [],
   "source": [
    "import json, os, statistics, glob\n",
    "from workweek_survey import schema\n",
    "\n",
    "STORAGE_PATH = os.getenv('STORAGE_PATH', 'data')\n",
    "files = sorted(glob.glob(os.path.join(STORAGE_PATH, '*.json')))\n",
    "responses = [schema.loads(open(f).read()) for f in files]\n",
    "hours = [t.duration_hours for r in responses for t in r.tasks]\n",
    "print('Total responses:', len(responses))\n",
    "print('Average hours per task:', statistics.mean(hours) if hours else 0)"
   ]
  }
 ],
 "metadata": {
  "kernelspec": {
   "display_name": "Python 3",
   "language": "python",
   "name": "python3"
  },
  "language_info": {
   "name": "python",
   "version": "3.11"
  }
 },
 "nbformat": 4,
 "nbformat_minor": 5
}
